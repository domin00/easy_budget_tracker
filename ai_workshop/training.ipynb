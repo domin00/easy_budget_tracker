{
 "cells": [
  {
   "cell_type": "code",
   "execution_count": 6,
   "metadata": {},
   "outputs": [],
   "source": [
    "import os\n",
    "import sklearn\n",
    "import pandas as pd\n"
   ]
  },
  {
   "cell_type": "code",
   "execution_count": 14,
   "metadata": {},
   "outputs": [],
   "source": [
    "# load data\n",
    "\n",
    "# Define the relative path to the CSV file\n",
    "file_path = 'sample_data\\\\revolut.csv'\n",
    "\n",
    "# Load the CSV file into a DataFrame\n",
    "df = pd.read_csv(file_path)"
   ]
  },
  {
   "cell_type": "code",
   "execution_count": 5,
   "metadata": {},
   "outputs": [
    {
     "data": {
      "text/html": [
       "<div>\n",
       "<style scoped>\n",
       "    .dataframe tbody tr th:only-of-type {\n",
       "        vertical-align: middle;\n",
       "    }\n",
       "\n",
       "    .dataframe tbody tr th {\n",
       "        vertical-align: top;\n",
       "    }\n",
       "\n",
       "    .dataframe thead th {\n",
       "        text-align: right;\n",
       "    }\n",
       "</style>\n",
       "<table border=\"1\" class=\"dataframe\">\n",
       "  <thead>\n",
       "    <tr style=\"text-align: right;\">\n",
       "      <th></th>\n",
       "      <th>Date</th>\n",
       "      <th>Amount</th>\n",
       "      <th>Description</th>\n",
       "      <th>Currency</th>\n",
       "      <th>Bank</th>\n",
       "      <th>Category</th>\n",
       "    </tr>\n",
       "  </thead>\n",
       "  <tbody>\n",
       "    <tr>\n",
       "      <th>0</th>\n",
       "      <td>2024-01-26</td>\n",
       "      <td>6.90</td>\n",
       "      <td>Pret</td>\n",
       "      <td>CHF</td>\n",
       "      <td>Revolut</td>\n",
       "      <td>Food</td>\n",
       "    </tr>\n",
       "    <tr>\n",
       "      <th>1</th>\n",
       "      <td>2024-01-08</td>\n",
       "      <td>3.40</td>\n",
       "      <td>Warszawski Transport Publiczny</td>\n",
       "      <td>PLN</td>\n",
       "      <td>Revolut</td>\n",
       "      <td>Transportation</td>\n",
       "    </tr>\n",
       "    <tr>\n",
       "      <th>2</th>\n",
       "      <td>2024-01-02</td>\n",
       "      <td>18.25</td>\n",
       "      <td>Lidl</td>\n",
       "      <td>EUR</td>\n",
       "      <td>Revolut</td>\n",
       "      <td>Food</td>\n",
       "    </tr>\n",
       "    <tr>\n",
       "      <th>3</th>\n",
       "      <td>2024-01-03</td>\n",
       "      <td>161.34</td>\n",
       "      <td>LOT Polish Airlines</td>\n",
       "      <td>EUR</td>\n",
       "      <td>Revolut</td>\n",
       "      <td>Travel</td>\n",
       "    </tr>\n",
       "    <tr>\n",
       "      <th>4</th>\n",
       "      <td>2024-01-09</td>\n",
       "      <td>11.32</td>\n",
       "      <td>McDonald's</td>\n",
       "      <td>EUR</td>\n",
       "      <td>Revolut</td>\n",
       "      <td>Food</td>\n",
       "    </tr>\n",
       "  </tbody>\n",
       "</table>\n",
       "</div>"
      ],
      "text/plain": [
       "         Date  Amount                     Description Currency     Bank  \\\n",
       "0  2024-01-26    6.90                            Pret      CHF  Revolut   \n",
       "1  2024-01-08    3.40  Warszawski Transport Publiczny      PLN  Revolut   \n",
       "2  2024-01-02   18.25                            Lidl      EUR  Revolut   \n",
       "3  2024-01-03  161.34             LOT Polish Airlines      EUR  Revolut   \n",
       "4  2024-01-09   11.32                      McDonald's      EUR  Revolut   \n",
       "\n",
       "         Category  \n",
       "0            Food  \n",
       "1  Transportation  \n",
       "2            Food  \n",
       "3          Travel  \n",
       "4            Food  "
      ]
     },
     "execution_count": 5,
     "metadata": {},
     "output_type": "execute_result"
    }
   ],
   "source": [
    "df.head()"
   ]
  },
  {
   "cell_type": "code",
   "execution_count": 7,
   "metadata": {},
   "outputs": [],
   "source": []
  },
  {
   "cell_type": "code",
   "execution_count": 19,
   "metadata": {},
   "outputs": [],
   "source": [
    "from sklearn.model_selection import train_test_split\n",
    "\n",
    "# Drop the 'Category' column to get features (X) and the 'Category' column as target variable (y)\n",
    "X = df[['Description', 'Bank']]\n",
    "y = df['Category']\n",
    "\n",
    "# One-hot encode categorical variables\n",
    "X_encoded = pd.get_dummies(X)\n",
    "\n",
    "# Split the data into training and testing sets\n",
    "X_train, X_test, y_train, y_test = train_test_split(X_encoded, y, test_size=0.2, random_state=42)\n",
    "\n"
   ]
  },
  {
   "cell_type": "code",
   "execution_count": 3,
   "metadata": {},
   "outputs": [
    {
     "name": "stdout",
     "output_type": "stream",
     "text": [
      "                precision    recall  f1-score   support\n",
      "\n",
      " Entertainment       0.00      0.00      0.00         1\n",
      "          Food       0.58      1.00      0.74         7\n",
      "      Personal       0.00      0.00      0.00         1\n",
      "Transportation       0.00      0.00      0.00         3\n",
      "\n",
      "      accuracy                           0.58        12\n",
      "     macro avg       0.15      0.25      0.18        12\n",
      "  weighted avg       0.34      0.58      0.43        12\n",
      "\n",
      "Predicted category for 'LIDL BUDOWLANA Warszawa': Food\n"
     ]
    },
    {
     "name": "stderr",
     "output_type": "stream",
     "text": [
      "c:\\Users\\dcydzik\\OneDrive - Capgemini\\Code\\easy_budget_tracker\\.venv\\Lib\\site-packages\\sklearn\\metrics\\_classification.py:1509: UndefinedMetricWarning: Precision is ill-defined and being set to 0.0 in labels with no predicted samples. Use `zero_division` parameter to control this behavior.\n",
      "  _warn_prf(average, modifier, f\"{metric.capitalize()} is\", len(result))\n",
      "c:\\Users\\dcydzik\\OneDrive - Capgemini\\Code\\easy_budget_tracker\\.venv\\Lib\\site-packages\\sklearn\\metrics\\_classification.py:1509: UndefinedMetricWarning: Precision is ill-defined and being set to 0.0 in labels with no predicted samples. Use `zero_division` parameter to control this behavior.\n",
      "  _warn_prf(average, modifier, f\"{metric.capitalize()} is\", len(result))\n",
      "c:\\Users\\dcydzik\\OneDrive - Capgemini\\Code\\easy_budget_tracker\\.venv\\Lib\\site-packages\\sklearn\\metrics\\_classification.py:1509: UndefinedMetricWarning: Precision is ill-defined and being set to 0.0 in labels with no predicted samples. Use `zero_division` parameter to control this behavior.\n",
      "  _warn_prf(average, modifier, f\"{metric.capitalize()} is\", len(result))\n"
     ]
    }
   ],
   "source": [
    "import pandas as pd\n",
    "from sklearn.model_selection import train_test_split\n",
    "from sklearn.feature_extraction.text import TfidfVectorizer\n",
    "from sklearn.naive_bayes import MultinomialNB\n",
    "from sklearn.pipeline import Pipeline\n",
    "from sklearn.metrics import classification_report\n",
    "\n",
    "# Load the CSV data\n",
    "csv_data = pd.read_csv('sample_data/labelled_santander_2024-07-03_2024-07-31.csv')\n",
    "\n",
    "# Prepare the features and target\n",
    "X = csv_data['Description']\n",
    "y = csv_data['Category']\n",
    "\n",
    "# Split the data into training and testing sets\n",
    "X_train, X_test, y_train, y_test = train_test_split(X, y, test_size=0.2, random_state=42)\n",
    "\n",
    "# Create a pipeline with TF-IDF vectorizer and Multinomial Naive Bayes classifier\n",
    "model = Pipeline([\n",
    "    ('tfidf', TfidfVectorizer()),\n",
    "    ('clf', MultinomialNB()),\n",
    "])\n",
    "\n",
    "# Train the model\n",
    "model.fit(X_train, y_train)\n",
    "\n",
    "# Make predictions on the test set\n",
    "y_pred = model.predict(X_test)\n",
    "\n",
    "# Print the classification report\n",
    "print(classification_report(y_test, y_pred))\n",
    "\n",
    "# Function to predict category for new transactions\n",
    "def predict_category(description):\n",
    "    return model.predict([description])[0]\n",
    "\n",
    "# Example usage\n",
    "new_transaction = \"LIDL BUDOWLANA Warszawa\"\n",
    "predicted_category = predict_category(new_transaction)\n",
    "print(f\"Predicted category for '{new_transaction}': {predicted_category}\")\n"
   ]
  },
  {
   "cell_type": "code",
   "execution_count": 9,
   "metadata": {},
   "outputs": [
    {
     "name": "stdout",
     "output_type": "stream",
     "text": [
      "Predicted category for 'Intersport': Food\n"
     ]
    }
   ],
   "source": [
    "new_transaction = \"Intersport\"\n",
    "predicted_category = predict_category(new_transaction)\n",
    "print(f\"Predicted category for '{new_transaction}': {predicted_category}\")"
   ]
  }
 ],
 "metadata": {
  "kernelspec": {
   "display_name": ".venv",
   "language": "python",
   "name": "python3"
  },
  "language_info": {
   "codemirror_mode": {
    "name": "ipython",
    "version": 3
   },
   "file_extension": ".py",
   "mimetype": "text/x-python",
   "name": "python",
   "nbconvert_exporter": "python",
   "pygments_lexer": "ipython3",
   "version": "3.11.9"
  }
 },
 "nbformat": 4,
 "nbformat_minor": 2
}
